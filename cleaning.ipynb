{
 "cells": [
  {
   "cell_type": "code",
   "execution_count": 1,
   "id": "a9c8d624",
   "metadata": {},
   "outputs": [],
   "source": [
    "import pandas as pd\n",
    "import numpy as np"
   ]
  },
  {
   "cell_type": "markdown",
   "id": "af37d857",
   "metadata": {},
   "source": [
    "### Read in data and drop rows with NA in important columns"
   ]
  },
  {
   "cell_type": "code",
   "execution_count": 20,
   "id": "bc4c215c",
   "metadata": {},
   "outputs": [],
   "source": [
    "df_summs_raw = pd.read_csv(\"all_games.csv\")\n",
    "df_sales_raw = pd.read_csv(\"vgsales.csv\")\n",
    "df_summs = df_summs_raw.copy()\n",
    "df_sales = df_sales_raw.copy()\n",
    "\n",
    "df_sales = df_sales.drop([\"Rank\"],axis=1)\n",
    "df_summs = df_summs.rename(columns={'name': 'Name'})\n",
    "df_summs = df_summs.rename(columns={'platform': 'Platform'})"
   ]
  },
  {
   "cell_type": "code",
   "execution_count": 21,
   "id": "7bba74d3",
   "metadata": {},
   "outputs": [
    {
     "name": "stdout",
     "output_type": "stream",
     "text": [
      "(16598, 10)\n",
      "(18800, 6)\n",
      "(16327, 10)\n",
      "(18686, 6)\n"
     ]
    }
   ],
   "source": [
    "# drop rows with nans in the important columns\n",
    "print(df_sales.shape)\n",
    "print(df_summs.shape)\n",
    "\n",
    "df_sales = df_sales.dropna(axis=0,subset=['Name', 'Year', 'Global_Sales'])\n",
    "df_summs = df_summs.dropna(axis=0,subset=['Name', 'release_date', 'summary'])\n",
    "\n",
    "print(df_sales.shape)\n",
    "print(df_summs.shape)"
   ]
  },
  {
   "cell_type": "markdown",
   "id": "74f7a9c5",
   "metadata": {},
   "source": [
    "### Make the dfs compatible for merging"
   ]
  },
  {
   "cell_type": "code",
   "execution_count": 22,
   "id": "88ab8422",
   "metadata": {},
   "outputs": [
    {
     "name": "stdout",
     "output_type": "stream",
     "text": [
      "['Wii' 'NES' 'GB' 'DS' 'X360' 'PS3' 'PS2' 'SNES' 'GBA' '3DS' 'PS4' 'N64'\n",
      " 'PS' 'XB' 'PC' '2600' 'PSP' 'XOne' 'GC' 'WiiU' 'GEN' 'DC' 'PSV' 'SAT'\n",
      " 'SCD' 'WS' 'NG' 'TG16' '3DO' 'GG' 'PCFX']\n",
      "[' Nintendo 64' ' PlayStation' ' PlayStation 3' ' Dreamcast' ' Xbox 360'\n",
      " ' Wii' ' Xbox One' ' PC' ' Switch' ' PlayStation 2' ' PlayStation 4'\n",
      " ' GameCube' ' Xbox' ' Wii U' ' Game Boy Advance' ' 3DS' ' Xbox Series X'\n",
      " ' DS' ' PlayStation Vita' ' PlayStation 5' ' PSP' ' Stadia']\n"
     ]
    }
   ],
   "source": [
    "# Make platform names same in each dataframe\n",
    "print(df_sales[\"Platform\"].unique())\n",
    "print(df_summs[\"Platform\"].unique())\n",
    "\n",
    "plats = {\"N64\":\"Nintendo 64\", \"PS\":\"PlayStation\", \"PS3\":\"PlayStation 3\", \"DC\":\"Dreamcast\", \\\n",
    "        \"X360\":\"Xbox 360\", \"XOne\":\"Xbox One\", \"PS2\":\"PlayStation 2\", \"PS4\":\"PlayStation 4\", \\\n",
    "        \"GC\":\"GameCube\", \"PSV\":\"PlayStation Vita\", \"GBA\":\"Game Boy Advance\", \"WiiU\":\"Wii U\", \"XB\":\"Xbox\"}\n",
    "for key in plats.keys():\n",
    "    df_sales['Platform'] = df_sales['Platform'].replace(key,plats[key])"
   ]
  },
  {
   "cell_type": "code",
   "execution_count": 23,
   "id": "e2c1ab37",
   "metadata": {},
   "outputs": [],
   "source": [
    "# strip any leading or trailing spaces in the columns I'm going to merge on\n",
    "df_sales[\"Name\"] = df_sales[\"Name\"].str.strip()\n",
    "df_sales[\"Platform\"] = df_sales[\"Platform\"].str.strip()\n",
    "\n",
    "df_summs[\"Name\"] = df_summs[\"Name\"].str.strip()\n",
    "df_summs[\"Platform\"] = df_summs[\"Platform\"].str.strip()"
   ]
  },
  {
   "cell_type": "markdown",
   "id": "402641d2",
   "metadata": {},
   "source": [
    "### Merge the dfs"
   ]
  },
  {
   "cell_type": "code",
   "execution_count": 24,
   "id": "48e3fb3a",
   "metadata": {},
   "outputs": [],
   "source": [
    "# merge the dataframes on game name, year, and platform\n",
    "df_sales[\"Year\"] = df_sales[\"Year\"].astype(int)\n",
    "df_summs[\"Year\"] = df_summs[\"release_date\"].str[-4:].astype(int)\n",
    "df = df_summs.merge(df_sales, how=\"inner\", on=[\"Name\",\"Year\",\"Platform\"])"
   ]
  },
  {
   "cell_type": "code",
   "execution_count": 25,
   "id": "f1b3c364",
   "metadata": {},
   "outputs": [
    {
     "name": "stdout",
     "output_type": "stream",
     "text": [
      "(5294, 14)\n"
     ]
    },
    {
     "data": {
      "text/html": [
       "<div>\n",
       "<style scoped>\n",
       "    .dataframe tbody tr th:only-of-type {\n",
       "        vertical-align: middle;\n",
       "    }\n",
       "\n",
       "    .dataframe tbody tr th {\n",
       "        vertical-align: top;\n",
       "    }\n",
       "\n",
       "    .dataframe thead th {\n",
       "        text-align: right;\n",
       "    }\n",
       "</style>\n",
       "<table border=\"1\" class=\"dataframe\">\n",
       "  <thead>\n",
       "    <tr style=\"text-align: right;\">\n",
       "      <th></th>\n",
       "      <th>Name</th>\n",
       "      <th>Platform</th>\n",
       "      <th>release_date</th>\n",
       "      <th>summary</th>\n",
       "      <th>meta_score</th>\n",
       "      <th>user_review</th>\n",
       "      <th>Year</th>\n",
       "      <th>Genre</th>\n",
       "      <th>Publisher</th>\n",
       "      <th>NA_Sales</th>\n",
       "      <th>EU_Sales</th>\n",
       "      <th>JP_Sales</th>\n",
       "      <th>Other_Sales</th>\n",
       "      <th>Global_Sales</th>\n",
       "    </tr>\n",
       "  </thead>\n",
       "  <tbody>\n",
       "    <tr>\n",
       "      <th>0</th>\n",
       "      <td>The Legend of Zelda: Ocarina of Time</td>\n",
       "      <td>Nintendo 64</td>\n",
       "      <td>November 23, 1998</td>\n",
       "      <td>As a young boy, Link is tricked by Ganondorf, ...</td>\n",
       "      <td>99</td>\n",
       "      <td>9.1</td>\n",
       "      <td>1998</td>\n",
       "      <td>Action</td>\n",
       "      <td>Nintendo</td>\n",
       "      <td>4.10</td>\n",
       "      <td>1.89</td>\n",
       "      <td>1.45</td>\n",
       "      <td>0.16</td>\n",
       "      <td>7.60</td>\n",
       "    </tr>\n",
       "    <tr>\n",
       "      <th>1</th>\n",
       "      <td>Tony Hawk's Pro Skater 2</td>\n",
       "      <td>PlayStation</td>\n",
       "      <td>September 20, 2000</td>\n",
       "      <td>As most major publishers' development efforts ...</td>\n",
       "      <td>98</td>\n",
       "      <td>7.4</td>\n",
       "      <td>2000</td>\n",
       "      <td>Sports</td>\n",
       "      <td>Activision</td>\n",
       "      <td>3.05</td>\n",
       "      <td>1.41</td>\n",
       "      <td>0.02</td>\n",
       "      <td>0.20</td>\n",
       "      <td>4.68</td>\n",
       "    </tr>\n",
       "    <tr>\n",
       "      <th>2</th>\n",
       "      <td>Grand Theft Auto IV</td>\n",
       "      <td>PlayStation 3</td>\n",
       "      <td>April 29, 2008</td>\n",
       "      <td>[Metacritic's 2008 PS3 Game of the Year; Also ...</td>\n",
       "      <td>98</td>\n",
       "      <td>7.7</td>\n",
       "      <td>2008</td>\n",
       "      <td>Action</td>\n",
       "      <td>Take-Two Interactive</td>\n",
       "      <td>4.76</td>\n",
       "      <td>3.76</td>\n",
       "      <td>0.44</td>\n",
       "      <td>1.62</td>\n",
       "      <td>10.57</td>\n",
       "    </tr>\n",
       "    <tr>\n",
       "      <th>3</th>\n",
       "      <td>SoulCalibur</td>\n",
       "      <td>Dreamcast</td>\n",
       "      <td>September 8, 1999</td>\n",
       "      <td>This is a tale of souls and swords, transcendi...</td>\n",
       "      <td>98</td>\n",
       "      <td>8.4</td>\n",
       "      <td>1999</td>\n",
       "      <td>Fighting</td>\n",
       "      <td>Namco Bandai Games</td>\n",
       "      <td>0.00</td>\n",
       "      <td>0.00</td>\n",
       "      <td>0.34</td>\n",
       "      <td>0.00</td>\n",
       "      <td>0.34</td>\n",
       "    </tr>\n",
       "    <tr>\n",
       "      <th>4</th>\n",
       "      <td>Grand Theft Auto IV</td>\n",
       "      <td>Xbox 360</td>\n",
       "      <td>April 29, 2008</td>\n",
       "      <td>[Metacritic's 2008 Xbox 360 Game of the Year; ...</td>\n",
       "      <td>98</td>\n",
       "      <td>7.9</td>\n",
       "      <td>2008</td>\n",
       "      <td>Action</td>\n",
       "      <td>Take-Two Interactive</td>\n",
       "      <td>6.76</td>\n",
       "      <td>3.10</td>\n",
       "      <td>0.14</td>\n",
       "      <td>1.03</td>\n",
       "      <td>11.02</td>\n",
       "    </tr>\n",
       "    <tr>\n",
       "      <th>...</th>\n",
       "      <td>...</td>\n",
       "      <td>...</td>\n",
       "      <td>...</td>\n",
       "      <td>...</td>\n",
       "      <td>...</td>\n",
       "      <td>...</td>\n",
       "      <td>...</td>\n",
       "      <td>...</td>\n",
       "      <td>...</td>\n",
       "      <td>...</td>\n",
       "      <td>...</td>\n",
       "      <td>...</td>\n",
       "      <td>...</td>\n",
       "      <td>...</td>\n",
       "    </tr>\n",
       "    <tr>\n",
       "      <th>5289</th>\n",
       "      <td>Pulse Racer</td>\n",
       "      <td>Xbox</td>\n",
       "      <td>January 2, 2003</td>\n",
       "      <td>Pulse Racer takes you to a future where racers...</td>\n",
       "      <td>24</td>\n",
       "      <td>2.2</td>\n",
       "      <td>2003</td>\n",
       "      <td>Racing</td>\n",
       "      <td>Jaleco</td>\n",
       "      <td>0.01</td>\n",
       "      <td>0.00</td>\n",
       "      <td>0.00</td>\n",
       "      <td>0.00</td>\n",
       "      <td>0.02</td>\n",
       "    </tr>\n",
       "    <tr>\n",
       "      <th>5290</th>\n",
       "      <td>Fighter Within</td>\n",
       "      <td>Xbox One</td>\n",
       "      <td>November 19, 2013</td>\n",
       "      <td>Unleash your inner fighter to beat your friend...</td>\n",
       "      <td>23</td>\n",
       "      <td>2.8</td>\n",
       "      <td>2013</td>\n",
       "      <td>Fighting</td>\n",
       "      <td>Ubisoft</td>\n",
       "      <td>0.11</td>\n",
       "      <td>0.07</td>\n",
       "      <td>0.00</td>\n",
       "      <td>0.02</td>\n",
       "      <td>0.19</td>\n",
       "    </tr>\n",
       "    <tr>\n",
       "      <th>5291</th>\n",
       "      <td>Homie Rollerz</td>\n",
       "      <td>DS</td>\n",
       "      <td>March 5, 2008</td>\n",
       "      <td>Homie Rollerz is a fast-paced, mayhem-laden ka...</td>\n",
       "      <td>23</td>\n",
       "      <td>3.0</td>\n",
       "      <td>2008</td>\n",
       "      <td>Racing</td>\n",
       "      <td>Destineer</td>\n",
       "      <td>0.07</td>\n",
       "      <td>0.00</td>\n",
       "      <td>0.00</td>\n",
       "      <td>0.01</td>\n",
       "      <td>0.07</td>\n",
       "    </tr>\n",
       "    <tr>\n",
       "      <th>5292</th>\n",
       "      <td>Charlie's Angels</td>\n",
       "      <td>GameCube</td>\n",
       "      <td>July 9, 2003</td>\n",
       "      <td>Join Natalie, Dylan, and Alex for an intense a...</td>\n",
       "      <td>23</td>\n",
       "      <td>4.3</td>\n",
       "      <td>2003</td>\n",
       "      <td>Action</td>\n",
       "      <td>Ubisoft</td>\n",
       "      <td>0.01</td>\n",
       "      <td>0.00</td>\n",
       "      <td>0.00</td>\n",
       "      <td>0.00</td>\n",
       "      <td>0.02</td>\n",
       "    </tr>\n",
       "    <tr>\n",
       "      <th>5293</th>\n",
       "      <td>Fast &amp; Furious: Showdown</td>\n",
       "      <td>Xbox 360</td>\n",
       "      <td>May 21, 2013</td>\n",
       "      <td>Fast &amp; Furious: Showdown takes some of the fra...</td>\n",
       "      <td>22</td>\n",
       "      <td>1.3</td>\n",
       "      <td>2013</td>\n",
       "      <td>Action</td>\n",
       "      <td>Activision</td>\n",
       "      <td>0.00</td>\n",
       "      <td>0.04</td>\n",
       "      <td>0.00</td>\n",
       "      <td>0.00</td>\n",
       "      <td>0.05</td>\n",
       "    </tr>\n",
       "  </tbody>\n",
       "</table>\n",
       "<p>5294 rows × 14 columns</p>\n",
       "</div>"
      ],
      "text/plain": [
       "                                      Name       Platform        release_date  \\\n",
       "0     The Legend of Zelda: Ocarina of Time    Nintendo 64   November 23, 1998   \n",
       "1                 Tony Hawk's Pro Skater 2    PlayStation  September 20, 2000   \n",
       "2                      Grand Theft Auto IV  PlayStation 3      April 29, 2008   \n",
       "3                              SoulCalibur      Dreamcast   September 8, 1999   \n",
       "4                      Grand Theft Auto IV       Xbox 360      April 29, 2008   \n",
       "...                                    ...            ...                 ...   \n",
       "5289                           Pulse Racer           Xbox     January 2, 2003   \n",
       "5290                        Fighter Within       Xbox One   November 19, 2013   \n",
       "5291                         Homie Rollerz             DS       March 5, 2008   \n",
       "5292                      Charlie's Angels       GameCube        July 9, 2003   \n",
       "5293              Fast & Furious: Showdown       Xbox 360        May 21, 2013   \n",
       "\n",
       "                                                summary  meta_score  \\\n",
       "0     As a young boy, Link is tricked by Ganondorf, ...          99   \n",
       "1     As most major publishers' development efforts ...          98   \n",
       "2     [Metacritic's 2008 PS3 Game of the Year; Also ...          98   \n",
       "3     This is a tale of souls and swords, transcendi...          98   \n",
       "4     [Metacritic's 2008 Xbox 360 Game of the Year; ...          98   \n",
       "...                                                 ...         ...   \n",
       "5289  Pulse Racer takes you to a future where racers...          24   \n",
       "5290  Unleash your inner fighter to beat your friend...          23   \n",
       "5291  Homie Rollerz is a fast-paced, mayhem-laden ka...          23   \n",
       "5292  Join Natalie, Dylan, and Alex for an intense a...          23   \n",
       "5293  Fast & Furious: Showdown takes some of the fra...          22   \n",
       "\n",
       "     user_review  Year     Genre             Publisher  NA_Sales  EU_Sales  \\\n",
       "0            9.1  1998    Action              Nintendo      4.10      1.89   \n",
       "1            7.4  2000    Sports            Activision      3.05      1.41   \n",
       "2            7.7  2008    Action  Take-Two Interactive      4.76      3.76   \n",
       "3            8.4  1999  Fighting    Namco Bandai Games      0.00      0.00   \n",
       "4            7.9  2008    Action  Take-Two Interactive      6.76      3.10   \n",
       "...          ...   ...       ...                   ...       ...       ...   \n",
       "5289         2.2  2003    Racing                Jaleco      0.01      0.00   \n",
       "5290         2.8  2013  Fighting               Ubisoft      0.11      0.07   \n",
       "5291         3.0  2008    Racing             Destineer      0.07      0.00   \n",
       "5292         4.3  2003    Action               Ubisoft      0.01      0.00   \n",
       "5293         1.3  2013    Action            Activision      0.00      0.04   \n",
       "\n",
       "      JP_Sales  Other_Sales  Global_Sales  \n",
       "0         1.45         0.16          7.60  \n",
       "1         0.02         0.20          4.68  \n",
       "2         0.44         1.62         10.57  \n",
       "3         0.34         0.00          0.34  \n",
       "4         0.14         1.03         11.02  \n",
       "...        ...          ...           ...  \n",
       "5289      0.00         0.00          0.02  \n",
       "5290      0.00         0.02          0.19  \n",
       "5291      0.00         0.01          0.07  \n",
       "5292      0.00         0.00          0.02  \n",
       "5293      0.00         0.00          0.05  \n",
       "\n",
       "[5294 rows x 14 columns]"
      ]
     },
     "execution_count": 25,
     "metadata": {},
     "output_type": "execute_result"
    }
   ],
   "source": [
    "print(df.shape)\n",
    "df"
   ]
  },
  {
   "cell_type": "markdown",
   "id": "d2c73cd5",
   "metadata": {},
   "source": [
    "### Fix data types"
   ]
  },
  {
   "cell_type": "code",
   "execution_count": 26,
   "id": "c03f4e99",
   "metadata": {},
   "outputs": [],
   "source": [
    "# convert release_date to time\n",
    "df[\"release_date\"] = pd.to_datetime(df[\"release_date\"])"
   ]
  },
  {
   "cell_type": "markdown",
   "id": "30853c9f",
   "metadata": {},
   "source": [
    "### Remove outlier games\n",
    "From EDA, I found there are outliers (all 6 of the most extreme are Wii and Mario). Words in these game descriptions will weigh too heavily and be assumed to be great words, when in reality, the descriptions are not a main reason these games are that popular. Non outliers reached at most 2 million sales."
   ]
  },
  {
   "cell_type": "code",
   "execution_count": 27,
   "id": "b8f381dc",
   "metadata": {},
   "outputs": [],
   "source": [
    "# Drop games with more than 2 million sales (Global_Sales>2)\n",
    "df = df[df[\"Global_Sales\"]<2].reset_index(drop=True)"
   ]
  },
  {
   "cell_type": "markdown",
   "id": "7ab56c0b",
   "metadata": {},
   "source": [
    "### Clean up summaries"
   ]
  },
  {
   "cell_type": "code",
   "execution_count": 28,
   "id": "99f8dc25",
   "metadata": {},
   "outputs": [
    {
     "name": "stdout",
     "output_type": "stream",
     "text": [
      "Art Academy: Home Studio  -  Also known as Art Academy: Atelier.\n",
      "Catherine  -  Catherine is an action adventure game from Atlus.\n",
      "Star Fox 64 3D  -  Star Fox 64 is being remade in 3-D for the 3DS.\n",
      "DJ Star  -  Two main modes include Career and Creation.\n",
      "Arcania: Gothic 4  -  The Gothic series rolls out more epic RPG action.\n"
     ]
    }
   ],
   "source": [
    "# What summaries are really short? I'll leave them alone\n",
    "df = df.reset_index(drop=True)\n",
    "for i in range(len(df[\"summary\"])):\n",
    "    if len(df[\"summary\"][i]) < 50:\n",
    "        print(df[\"Name\"][i], \" - \", df[\"summary\"][i])"
   ]
  },
  {
   "cell_type": "code",
   "execution_count": 29,
   "id": "4dacf2f3",
   "metadata": {},
   "outputs": [],
   "source": [
    "# make summaries lower case\n",
    "df['summary'] = df['summary'].str.lower()"
   ]
  },
  {
   "cell_type": "code",
   "execution_count": 30,
   "id": "e7abf1eb",
   "metadata": {},
   "outputs": [],
   "source": [
    "# add leading and trailing spaces in each summary\n",
    "# this makes sure every word has a space on either side of it\n",
    "df['summary'] = [\" \"+df['summary'].iloc[i]+\" \" for i in range(len(df))]"
   ]
  },
  {
   "cell_type": "code",
   "execution_count": 32,
   "id": "5c82346a",
   "metadata": {},
   "outputs": [
    {
     "name": "stderr",
     "output_type": "stream",
     "text": [
      "/var/folders/xx/s138h7zs36sdpnp0qvy3wk2m0000gn/T/ipykernel_64627/1332555576.py:2: FutureWarning: The default value of regex will change from True to False in a future version.\n",
      "  df['summary'] = df['summary'].str.replace(\" u.s. \",' united states ')\n"
     ]
    }
   ],
   "source": [
    "# turn U.S. into united states\n",
    "df['summary'] = df['summary'].str.replace(\" u.s. \",' united states ')"
   ]
  },
  {
   "cell_type": "code",
   "execution_count": 33,
   "id": "338380d8",
   "metadata": {},
   "outputs": [
    {
     "name": "stderr",
     "output_type": "stream",
     "text": [
      "/var/folders/xx/s138h7zs36sdpnp0qvy3wk2m0000gn/T/ipykernel_64627/1235218277.py:5: FutureWarning: The default value of regex will change from True to False in a future version.\n",
      "  df['summary'] = df['summary'].str.replace(i,' ')\n",
      "/var/folders/xx/s138h7zs36sdpnp0qvy3wk2m0000gn/T/ipykernel_64627/1235218277.py:5: FutureWarning: The default value of regex will change from True to False in a future version. In addition, single character regular expressions will *not* be treated as literal strings when regex=True.\n",
      "  df['summary'] = df['summary'].str.replace(i,' ')\n"
     ]
    }
   ],
   "source": [
    "# remove special characters from summary - replace all with a space\n",
    "chars = ['\\[', '\\]', ',', ';', '.', '!', '?', ':', '\\'s', '\\'ll', '\\'nt', '&', '*', \n",
    "         '(', ')', '\\\"', '“', '”', '®', '–', '-', ' - ', '/', '#', '—']\n",
    "for i in chars:\n",
    "    df['summary'] = df['summary'].str.replace(i,' ')\n",
    "df['summary'] = df['summary'].str.replace('’','')\n",
    "df['summary'] = df['summary'].str.replace('\\'','')"
   ]
  },
  {
   "cell_type": "markdown",
   "id": "35b70cad",
   "metadata": {},
   "source": [
    "Filler words"
   ]
  },
  {
   "cell_type": "code",
   "execution_count": 34,
   "id": "64673acb",
   "metadata": {},
   "outputs": [],
   "source": [
    "# what are the most common words used in all summaries? Check for filler words\n",
    "from collections import Counter\n",
    "most_freq = Counter(\" \".join(df[\"summary\"]).split()).most_common(100)\n",
    "#print(most_freq)"
   ]
  },
  {
   "cell_type": "code",
   "execution_count": 35,
   "id": "b4ad3987",
   "metadata": {},
   "outputs": [],
   "source": [
    "# remove fluffer words\n",
    "words = [' the ', ' and ', ' of ', ' to ', ' a ', ' in ', ' with ', ' your ', ' is ', ' you ', \\\n",
    "         ' as ', ' on ', ' for ', ' from ', ' an ', ' that ', ' by ', ' their ', ' will ', ' or ', \\\n",
    "         ' can ', ' all ', ' are ', ' this ', ' it ', ' into ', ' up ', ' be ', ' has ', \\\n",
    "         ' have ', ' its ', ' them ', ' which ', ' than ', ' but ', ' at ', ' was ', ' what ', ' when ',\\\n",
    "         ' take ', ' even ', ' been ', ' while ', ' who ', ' like ', ' get ', ' where ', ' they ']\n",
    "for i in words:\n",
    "    df['summary'] = df['summary'].str.replace(i,' ')\n",
    "\n",
    "# what are most frequent now?\n",
    "most_freq = Counter(\" \".join(df[\"summary\"]).split()).most_common(100)\n",
    "#print(most_freq)"
   ]
  },
  {
   "cell_type": "markdown",
   "id": "86dd8c5c",
   "metadata": {},
   "source": [
    "### Save df "
   ]
  },
  {
   "cell_type": "code",
   "execution_count": 36,
   "id": "029b00c8",
   "metadata": {},
   "outputs": [],
   "source": [
    "# save the cleaned df\n",
    "df.to_pickle(\"cleaned_df.pkl\")"
   ]
  },
  {
   "cell_type": "code",
   "execution_count": null,
   "id": "2b4b971d",
   "metadata": {},
   "outputs": [],
   "source": []
  }
 ],
 "metadata": {
  "kernelspec": {
   "display_name": "Python 3 (ipykernel)",
   "language": "python",
   "name": "python3"
  },
  "language_info": {
   "codemirror_mode": {
    "name": "ipython",
    "version": 3
   },
   "file_extension": ".py",
   "mimetype": "text/x-python",
   "name": "python",
   "nbconvert_exporter": "python",
   "pygments_lexer": "ipython3",
   "version": "3.9.7"
  }
 },
 "nbformat": 4,
 "nbformat_minor": 5
}
