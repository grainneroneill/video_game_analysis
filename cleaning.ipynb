{
 "cells": [
  {
   "cell_type": "code",
   "execution_count": 1,
   "id": "a9c8d624",
   "metadata": {},
   "outputs": [],
   "source": [
    "import pandas as pd\n",
    "import numpy as np"
   ]
  },
  {
   "cell_type": "code",
   "execution_count": 2,
   "id": "48e3fb3a",
   "metadata": {},
   "outputs": [],
   "source": [
    "df_raw = pd.read_csv(\"all_games.csv\")\n",
    "df = df_raw.copy()"
   ]
  },
  {
   "cell_type": "code",
   "execution_count": 3,
   "id": "f1b3c364",
   "metadata": {},
   "outputs": [
    {
     "name": "stdout",
     "output_type": "stream",
     "text": [
      "(18800, 6)\n"
     ]
    },
    {
     "data": {
      "text/html": [
       "<div>\n",
       "<style scoped>\n",
       "    .dataframe tbody tr th:only-of-type {\n",
       "        vertical-align: middle;\n",
       "    }\n",
       "\n",
       "    .dataframe tbody tr th {\n",
       "        vertical-align: top;\n",
       "    }\n",
       "\n",
       "    .dataframe thead th {\n",
       "        text-align: right;\n",
       "    }\n",
       "</style>\n",
       "<table border=\"1\" class=\"dataframe\">\n",
       "  <thead>\n",
       "    <tr style=\"text-align: right;\">\n",
       "      <th></th>\n",
       "      <th>name</th>\n",
       "      <th>platform</th>\n",
       "      <th>release_date</th>\n",
       "      <th>summary</th>\n",
       "      <th>meta_score</th>\n",
       "      <th>user_review</th>\n",
       "    </tr>\n",
       "  </thead>\n",
       "  <tbody>\n",
       "    <tr>\n",
       "      <th>0</th>\n",
       "      <td>The Legend of Zelda: Ocarina of Time</td>\n",
       "      <td>Nintendo 64</td>\n",
       "      <td>November 23, 1998</td>\n",
       "      <td>As a young boy, Link is tricked by Ganondorf, ...</td>\n",
       "      <td>99</td>\n",
       "      <td>9.1</td>\n",
       "    </tr>\n",
       "    <tr>\n",
       "      <th>1</th>\n",
       "      <td>Tony Hawk's Pro Skater 2</td>\n",
       "      <td>PlayStation</td>\n",
       "      <td>September 20, 2000</td>\n",
       "      <td>As most major publishers' development efforts ...</td>\n",
       "      <td>98</td>\n",
       "      <td>7.4</td>\n",
       "    </tr>\n",
       "    <tr>\n",
       "      <th>2</th>\n",
       "      <td>Grand Theft Auto IV</td>\n",
       "      <td>PlayStation 3</td>\n",
       "      <td>April 29, 2008</td>\n",
       "      <td>[Metacritic's 2008 PS3 Game of the Year; Also ...</td>\n",
       "      <td>98</td>\n",
       "      <td>7.7</td>\n",
       "    </tr>\n",
       "    <tr>\n",
       "      <th>3</th>\n",
       "      <td>SoulCalibur</td>\n",
       "      <td>Dreamcast</td>\n",
       "      <td>September 8, 1999</td>\n",
       "      <td>This is a tale of souls and swords, transcendi...</td>\n",
       "      <td>98</td>\n",
       "      <td>8.4</td>\n",
       "    </tr>\n",
       "    <tr>\n",
       "      <th>4</th>\n",
       "      <td>Grand Theft Auto IV</td>\n",
       "      <td>Xbox 360</td>\n",
       "      <td>April 29, 2008</td>\n",
       "      <td>[Metacritic's 2008 Xbox 360 Game of the Year; ...</td>\n",
       "      <td>98</td>\n",
       "      <td>7.9</td>\n",
       "    </tr>\n",
       "  </tbody>\n",
       "</table>\n",
       "</div>"
      ],
      "text/plain": [
       "                                   name        platform        release_date  \\\n",
       "0  The Legend of Zelda: Ocarina of Time     Nintendo 64   November 23, 1998   \n",
       "1              Tony Hawk's Pro Skater 2     PlayStation  September 20, 2000   \n",
       "2                   Grand Theft Auto IV   PlayStation 3      April 29, 2008   \n",
       "3                           SoulCalibur       Dreamcast   September 8, 1999   \n",
       "4                   Grand Theft Auto IV        Xbox 360      April 29, 2008   \n",
       "\n",
       "                                             summary  meta_score user_review  \n",
       "0  As a young boy, Link is tricked by Ganondorf, ...          99         9.1  \n",
       "1  As most major publishers' development efforts ...          98         7.4  \n",
       "2  [Metacritic's 2008 PS3 Game of the Year; Also ...          98         7.7  \n",
       "3  This is a tale of souls and swords, transcendi...          98         8.4  \n",
       "4  [Metacritic's 2008 Xbox 360 Game of the Year; ...          98         7.9  "
      ]
     },
     "execution_count": 3,
     "metadata": {},
     "output_type": "execute_result"
    }
   ],
   "source": [
    "print(df.shape)\n",
    "df.head()"
   ]
  },
  {
   "cell_type": "code",
   "execution_count": 4,
   "id": "7fd6aad6",
   "metadata": {},
   "outputs": [
    {
     "data": {
      "text/plain": [
       "name            object\n",
       "platform        object\n",
       "release_date    object\n",
       "summary         object\n",
       "meta_score       int64\n",
       "user_review     object\n",
       "dtype: object"
      ]
     },
     "execution_count": 4,
     "metadata": {},
     "output_type": "execute_result"
    }
   ],
   "source": [
    "df.dtypes"
   ]
  },
  {
   "cell_type": "code",
   "execution_count": 5,
   "id": "215ca8ba",
   "metadata": {},
   "outputs": [
    {
     "name": "stdout",
     "output_type": "stream",
     "text": [
      "tbd\n"
     ]
    }
   ],
   "source": [
    "# try to convert user_review column to float\n",
    "for i in df[\"user_review\"]:\n",
    "    try:\n",
    "        i = float(i)\n",
    "    except:\n",
    "        print(i)\n",
    "        break"
   ]
  },
  {
   "cell_type": "code",
   "execution_count": 6,
   "id": "0c7e0c33",
   "metadata": {},
   "outputs": [
    {
     "name": "stdout",
     "output_type": "stream",
     "text": [
      "(1365, 6)\n"
     ]
    },
    {
     "data": {
      "text/plain": [
       "(17435, 6)"
      ]
     },
     "execution_count": 6,
     "metadata": {},
     "output_type": "execute_result"
    }
   ],
   "source": [
    "# how many rows have user_review = tbd ? Drop them\n",
    "print(df[df[\"user_review\"] == \"tbd\"].shape)\n",
    "df = df.drop(df[df[\"user_review\"] == \"tbd\"].index,axis=0)\n",
    "df.shape"
   ]
  },
  {
   "cell_type": "code",
   "execution_count": 7,
   "id": "381e569a",
   "metadata": {},
   "outputs": [
    {
     "data": {
      "text/plain": [
       "name             object\n",
       "platform         object\n",
       "release_date     object\n",
       "summary          object\n",
       "meta_score        int64\n",
       "user_review     float64\n",
       "dtype: object"
      ]
     },
     "execution_count": 7,
     "metadata": {},
     "output_type": "execute_result"
    }
   ],
   "source": [
    "# convert user_review to float\n",
    "df[\"user_review\"] = df[\"user_review\"].astype(float)\n",
    "df.dtypes"
   ]
  },
  {
   "cell_type": "code",
   "execution_count": 8,
   "id": "0ae5ea5a",
   "metadata": {},
   "outputs": [
    {
     "name": "stdout",
     "output_type": "stream",
     "text": [
      "(94, 6)\n"
     ]
    },
    {
     "data": {
      "text/plain": [
       "(17341, 6)"
      ]
     },
     "execution_count": 8,
     "metadata": {},
     "output_type": "execute_result"
    }
   ],
   "source": [
    "# How many rows contain nans? drop them\n",
    "print(df[df.isna().any(axis=1)].shape)\n",
    "df = df.dropna(axis=0)\n",
    "df.shape"
   ]
  },
  {
   "cell_type": "code",
   "execution_count": 9,
   "id": "19a3212b",
   "metadata": {},
   "outputs": [
    {
     "data": {
      "text/html": [
       "<div>\n",
       "<style scoped>\n",
       "    .dataframe tbody tr th:only-of-type {\n",
       "        vertical-align: middle;\n",
       "    }\n",
       "\n",
       "    .dataframe tbody tr th {\n",
       "        vertical-align: top;\n",
       "    }\n",
       "\n",
       "    .dataframe thead th {\n",
       "        text-align: right;\n",
       "    }\n",
       "</style>\n",
       "<table border=\"1\" class=\"dataframe\">\n",
       "  <thead>\n",
       "    <tr style=\"text-align: right;\">\n",
       "      <th></th>\n",
       "      <th>meta_score</th>\n",
       "      <th>user_review</th>\n",
       "    </tr>\n",
       "  </thead>\n",
       "  <tbody>\n",
       "    <tr>\n",
       "      <th>count</th>\n",
       "      <td>17341.000000</td>\n",
       "      <td>17341.000000</td>\n",
       "    </tr>\n",
       "    <tr>\n",
       "      <th>mean</th>\n",
       "      <td>71.200738</td>\n",
       "      <td>6.991269</td>\n",
       "    </tr>\n",
       "    <tr>\n",
       "      <th>std</th>\n",
       "      <td>12.224246</td>\n",
       "      <td>1.351931</td>\n",
       "    </tr>\n",
       "    <tr>\n",
       "      <th>min</th>\n",
       "      <td>20.000000</td>\n",
       "      <td>0.200000</td>\n",
       "    </tr>\n",
       "    <tr>\n",
       "      <th>25%</th>\n",
       "      <td>64.000000</td>\n",
       "      <td>6.300000</td>\n",
       "    </tr>\n",
       "    <tr>\n",
       "      <th>50%</th>\n",
       "      <td>73.000000</td>\n",
       "      <td>7.300000</td>\n",
       "    </tr>\n",
       "    <tr>\n",
       "      <th>75%</th>\n",
       "      <td>80.000000</td>\n",
       "      <td>7.900000</td>\n",
       "    </tr>\n",
       "    <tr>\n",
       "      <th>max</th>\n",
       "      <td>99.000000</td>\n",
       "      <td>9.700000</td>\n",
       "    </tr>\n",
       "  </tbody>\n",
       "</table>\n",
       "</div>"
      ],
      "text/plain": [
       "         meta_score   user_review\n",
       "count  17341.000000  17341.000000\n",
       "mean      71.200738      6.991269\n",
       "std       12.224246      1.351931\n",
       "min       20.000000      0.200000\n",
       "25%       64.000000      6.300000\n",
       "50%       73.000000      7.300000\n",
       "75%       80.000000      7.900000\n",
       "max       99.000000      9.700000"
      ]
     },
     "execution_count": 9,
     "metadata": {},
     "output_type": "execute_result"
    }
   ],
   "source": [
    "df.describe()"
   ]
  },
  {
   "cell_type": "code",
   "execution_count": 10,
   "id": "1bad1836",
   "metadata": {},
   "outputs": [
    {
     "data": {
      "text/plain": [
       "array([' Nintendo 64', ' PlayStation', ' PlayStation 3', ' Dreamcast',\n",
       "       ' Xbox 360', ' Wii', ' Xbox One', ' PC', ' Switch',\n",
       "       ' PlayStation 2', ' PlayStation 4', ' GameCube', ' Xbox', ' Wii U',\n",
       "       ' Game Boy Advance', ' 3DS', ' Xbox Series X', ' DS',\n",
       "       ' PlayStation Vita', ' PlayStation 5', ' PSP', ' Stadia'],\n",
       "      dtype=object)"
      ]
     },
     "execution_count": 10,
     "metadata": {},
     "output_type": "execute_result"
    }
   ],
   "source": [
    "df.platform.unique()"
   ]
  },
  {
   "cell_type": "code",
   "execution_count": 11,
   "id": "c03f4e99",
   "metadata": {},
   "outputs": [
    {
     "name": "stdout",
     "output_type": "stream",
     "text": [
      "name                    object\n",
      "platform                object\n",
      "release_date    datetime64[ns]\n",
      "summary                 object\n",
      "meta_score               int64\n",
      "user_review            float64\n",
      "dtype: object\n"
     ]
    },
    {
     "data": {
      "text/html": [
       "<div>\n",
       "<style scoped>\n",
       "    .dataframe tbody tr th:only-of-type {\n",
       "        vertical-align: middle;\n",
       "    }\n",
       "\n",
       "    .dataframe tbody tr th {\n",
       "        vertical-align: top;\n",
       "    }\n",
       "\n",
       "    .dataframe thead th {\n",
       "        text-align: right;\n",
       "    }\n",
       "</style>\n",
       "<table border=\"1\" class=\"dataframe\">\n",
       "  <thead>\n",
       "    <tr style=\"text-align: right;\">\n",
       "      <th></th>\n",
       "      <th>name</th>\n",
       "      <th>platform</th>\n",
       "      <th>release_date</th>\n",
       "      <th>summary</th>\n",
       "      <th>meta_score</th>\n",
       "      <th>user_review</th>\n",
       "    </tr>\n",
       "  </thead>\n",
       "  <tbody>\n",
       "    <tr>\n",
       "      <th>0</th>\n",
       "      <td>The Legend of Zelda: Ocarina of Time</td>\n",
       "      <td>Nintendo 64</td>\n",
       "      <td>1998-11-23</td>\n",
       "      <td>As a young boy, Link is tricked by Ganondorf, ...</td>\n",
       "      <td>99</td>\n",
       "      <td>9.1</td>\n",
       "    </tr>\n",
       "    <tr>\n",
       "      <th>1</th>\n",
       "      <td>Tony Hawk's Pro Skater 2</td>\n",
       "      <td>PlayStation</td>\n",
       "      <td>2000-09-20</td>\n",
       "      <td>As most major publishers' development efforts ...</td>\n",
       "      <td>98</td>\n",
       "      <td>7.4</td>\n",
       "    </tr>\n",
       "    <tr>\n",
       "      <th>2</th>\n",
       "      <td>Grand Theft Auto IV</td>\n",
       "      <td>PlayStation 3</td>\n",
       "      <td>2008-04-29</td>\n",
       "      <td>[Metacritic's 2008 PS3 Game of the Year; Also ...</td>\n",
       "      <td>98</td>\n",
       "      <td>7.7</td>\n",
       "    </tr>\n",
       "    <tr>\n",
       "      <th>3</th>\n",
       "      <td>SoulCalibur</td>\n",
       "      <td>Dreamcast</td>\n",
       "      <td>1999-09-08</td>\n",
       "      <td>This is a tale of souls and swords, transcendi...</td>\n",
       "      <td>98</td>\n",
       "      <td>8.4</td>\n",
       "    </tr>\n",
       "    <tr>\n",
       "      <th>4</th>\n",
       "      <td>Grand Theft Auto IV</td>\n",
       "      <td>Xbox 360</td>\n",
       "      <td>2008-04-29</td>\n",
       "      <td>[Metacritic's 2008 Xbox 360 Game of the Year; ...</td>\n",
       "      <td>98</td>\n",
       "      <td>7.9</td>\n",
       "    </tr>\n",
       "  </tbody>\n",
       "</table>\n",
       "</div>"
      ],
      "text/plain": [
       "                                   name        platform release_date  \\\n",
       "0  The Legend of Zelda: Ocarina of Time     Nintendo 64   1998-11-23   \n",
       "1              Tony Hawk's Pro Skater 2     PlayStation   2000-09-20   \n",
       "2                   Grand Theft Auto IV   PlayStation 3   2008-04-29   \n",
       "3                           SoulCalibur       Dreamcast   1999-09-08   \n",
       "4                   Grand Theft Auto IV        Xbox 360   2008-04-29   \n",
       "\n",
       "                                             summary  meta_score  user_review  \n",
       "0  As a young boy, Link is tricked by Ganondorf, ...          99          9.1  \n",
       "1  As most major publishers' development efforts ...          98          7.4  \n",
       "2  [Metacritic's 2008 PS3 Game of the Year; Also ...          98          7.7  \n",
       "3  This is a tale of souls and swords, transcendi...          98          8.4  \n",
       "4  [Metacritic's 2008 Xbox 360 Game of the Year; ...          98          7.9  "
      ]
     },
     "execution_count": 11,
     "metadata": {},
     "output_type": "execute_result"
    }
   ],
   "source": [
    "# convert release_date to time\n",
    "df[\"release_date\"] = pd.to_datetime(df[\"release_date\"])\n",
    "print(df.dtypes)\n",
    "df.head()"
   ]
  },
  {
   "cell_type": "code",
   "execution_count": 12,
   "id": "99f8dc25",
   "metadata": {},
   "outputs": [
    {
     "name": "stdout",
     "output_type": "stream",
     "text": [
      "(17341, 6)\n",
      "The Walking Dead: Season Two Episode 3 - In Harm's Way\n",
      "Consequences.\n",
      "The Walking Dead: Season Two Episode 3 - In Harm's Way\n",
      "Consequences.\n",
      "The Walking Dead: Season Two Episode 3 - In Harm's Way\n",
      "Consequences.\n",
      "Age of Zombies\n",
      "[PSP Minis]\n",
      "The Walking Dead: Michonne - Episode 3: What We Deserve\n",
      "The season finale.\n",
      "The Walking Dead: Michonne - Episode 3: What We Deserve\n",
      "The season finale.\n"
     ]
    }
   ],
   "source": [
    "# What summaries are really short? They look fine\n",
    "df = df.reset_index(drop=True)\n",
    "print(df.shape)\n",
    "for i in range(len(df[\"summary\"])):\n",
    "    if len(df[\"summary\"][i]) < 20:\n",
    "        print(df[\"name\"][i])\n",
    "        print(df[\"summary\"][i])"
   ]
  },
  {
   "cell_type": "code",
   "execution_count": 13,
   "id": "4dacf2f3",
   "metadata": {},
   "outputs": [],
   "source": [
    "# make summaries lower case\n",
    "df['summary'] = df['summary'].str.lower()"
   ]
  },
  {
   "cell_type": "code",
   "execution_count": 14,
   "id": "338380d8",
   "metadata": {},
   "outputs": [
    {
     "name": "stderr",
     "output_type": "stream",
     "text": [
      "/var/folders/xx/s138h7zs36sdpnp0qvy3wk2m0000gn/T/ipykernel_37131/3206858259.py:4: FutureWarning: The default value of regex will change from True to False in a future version.\n",
      "  df['summary'] = df['summary'].str.replace(i,'')\n",
      "/var/folders/xx/s138h7zs36sdpnp0qvy3wk2m0000gn/T/ipykernel_37131/3206858259.py:4: FutureWarning: The default value of regex will change from True to False in a future version. In addition, single character regular expressions will *not* be treated as literal strings when regex=True.\n",
      "  df['summary'] = df['summary'].str.replace(i,'')\n"
     ]
    }
   ],
   "source": [
    "# remove special characters from summary\n",
    "chars = ['\\[', '\\]', ',', ';', '.', '!', '?', ':', '-', '\\'s', '\\'ll', '\\'', '&', '*', ' - ']\n",
    "for i in chars:\n",
    "    df['summary'] = df['summary'].str.replace(i,'')"
   ]
  },
  {
   "cell_type": "code",
   "execution_count": 15,
   "id": "64673acb",
   "metadata": {},
   "outputs": [
    {
     "name": "stdout",
     "output_type": "stream",
     "text": [
      "[('the', 102854), ('and', 65744), ('of', 50534), ('to', 45216), ('a', 40621), ('in', 28985), ('with', 18993), ('you', 16174), ('your', 16056), ('as', 14133), ('is', 13693), ('new', 11514), ('on', 11477), ('for', 11344), ('game', 10552), ('from', 9937), ('an', 9915), ('that', 8985), ('players', 8660), ('world', 7587), ('by', 6849), ('their', 6806), ('will', 6474), ('or', 6161), ('can', 5950), ('all', 5078), ('are', 4977), ('through', 4860), ('this', 4848), ('more', 4814), ('it', 4741), ('into', 4635), ('his', 4621), ('up', 4541), ('play', 4487), ('experience', 4023), ('be', 3869), ('take', 3620), ('has', 3564), ('have', 3341), ('battle', 3322), ('one', 3303), ('they', 3300), ('action', 3224), ('time', 3178), ('features', 3145), ('at', 3100), ('characters', 2973), ('mode', 2968), ('gameplay', 2896), ('each', 2754), ('player', 2717), ('out', 2685), ('adventure', 2651), ('unique', 2643), ('story', 2640), ('who', 2590), ('way', 2571), ('including', 2548), ('where', 2544), ('over', 2504), ('series', 2472), ('own', 2409), ('most', 2390), ('control', 2363), ('them', 2357), ('against', 2357), ('games', 2355), ('set', 2310), ('combat', 2310), ('but', 2267), ('online', 2243), ('multiplayer', 2191), ('first', 2174), ('must', 2159), ('system', 2141), ('he', 2131), ('use', 2131), ('weapons', 2127), ('team', 2124), ('its', 2088), ('other', 2081), ('fight', 2057), ('also', 2047), ('enemies', 2020), ('which', 1979), ('friends', 1903), ('now', 1854), ('war', 1838), ('her', 1825), ('only', 1800), ('city', 1767), ('back', 1762), ('like', 1750), ('life', 1746), ('while', 1743), ('than', 1738), ('explore', 1735), ('modes', 1713), ('2', 1693)]\n"
     ]
    }
   ],
   "source": [
    "# what are the most common words used in all summaries?\n",
    "from collections import Counter\n",
    "most_freq = Counter(\" \".join(df[\"summary\"]).split()).most_common(100)\n",
    "print(most_freq)"
   ]
  },
  {
   "cell_type": "code",
   "execution_count": 16,
   "id": "b4ad3987",
   "metadata": {},
   "outputs": [
    {
     "name": "stdout",
     "output_type": "stream",
     "text": [
      "[('new', 11514), ('game', 10552), ('players', 8660), ('world', 7587), ('through', 4860), ('more', 4814), ('his', 4621), ('play', 4487), ('experience', 4023), ('battle', 3322), ('one', 3303), ('they', 3300), ('action', 3224), ('time', 3178), ('features', 3145), ('characters', 2973), ('mode', 2968), ('gameplay', 2896), ('each', 2754), ('player', 2717), ('out', 2685), ('adventure', 2651), ('unique', 2643), ('story', 2640), ('way', 2571), ('including', 2548), ('over', 2504), ('series', 2472), ('own', 2409), ('most', 2390), ('control', 2363), ('against', 2357), ('games', 2355), ('set', 2310), ('combat', 2310), ('online', 2243), ('multiplayer', 2191), ('first', 2174), ('must', 2159), ('system', 2141), ('he', 2131), ('use', 2131), ('weapons', 2127), ('team', 2124), ('other', 2081), ('fight', 2057), ('also', 2047), ('enemies', 2020), ('friends', 1903), ('now', 1854), ('war', 1838), ('her', 1825), ('only', 1800), ('the', 1791), ('city', 1767), ('back', 1762), ('life', 1746), ('explore', 1735), ('modes', 1713), ('2', 1693), ('original', 1678), ('make', 1635), ('classic', 1632), ('power', 1614), ('every', 1576), ('evil', 1554), ('different', 1538), ('two', 1507), ('find', 1482), ('create', 1471), ('across', 1460), ('character', 1449), ('skills', 1432), ('before', 1412), ('using', 1353), ('ever', 1345), ('levels', 1319), ('takes', 1308), ('racing', 1307), ('choose', 1305), ('gamers', 1293), ('dark', 1291), ('save', 1289), ('journey', 1286), ('race', 1285), ('between', 1270), ('become', 1268), ('powerful', 1263), ('both', 1258), ('battles', 1258), ('–', 1249), ('such', 1233), ('epic', 1230), ('three', 1224), ('not', 1222), ('abilities', 1203), ('allnew', 1198), ('around', 1192), ('no', 1191), ('after', 1188)]\n"
     ]
    }
   ],
   "source": [
    "# remove fluffer words\n",
    "words = [' the ', ' and ', ' of ', ' to ', ' a ', ' in ', ' with ', ' your ', ' is ', ' you ', \\\n",
    "         ' as ', ' on ', ' for ', ' from ', ' an ', ' that ', ' by ', ' their ', ' will ', ' or ', \\\n",
    "         ' can ', ' all ', ' are ', ' this ', ' it ', ' into ', ' up ', ' be ', ' has ', \\\n",
    "         ' have ', ' its ', ' them ', ' which ', ' than ', ' but ', ' at ', ' was ', ' what ', ' when ',\\\n",
    "         ' take ', ' even ', ' been ', ' while ', ' who ', ' like ', ' get ', ' where ']\n",
    "for i in words:\n",
    "    df['summary'] = df['summary'].str.replace(i,' ')\n",
    "\n",
    "# what are most frequent now?\n",
    "most_freq = Counter(\" \".join(df[\"summary\"]).split()).most_common(100)\n",
    "print(most_freq)"
   ]
  },
  {
   "cell_type": "code",
   "execution_count": 18,
   "id": "029b00c8",
   "metadata": {},
   "outputs": [],
   "source": [
    "# save the cleaned df\n",
    "df.to_pickle(\"cleaned_df.pkl\")"
   ]
  },
  {
   "cell_type": "code",
   "execution_count": null,
   "id": "e255e329",
   "metadata": {},
   "outputs": [],
   "source": []
  },
  {
   "cell_type": "code",
   "execution_count": null,
   "id": "1d379fca",
   "metadata": {},
   "outputs": [],
   "source": []
  }
 ],
 "metadata": {
  "kernelspec": {
   "display_name": "Python 3 (ipykernel)",
   "language": "python",
   "name": "python3"
  },
  "language_info": {
   "codemirror_mode": {
    "name": "ipython",
    "version": 3
   },
   "file_extension": ".py",
   "mimetype": "text/x-python",
   "name": "python",
   "nbconvert_exporter": "python",
   "pygments_lexer": "ipython3",
   "version": "3.9.7"
  }
 },
 "nbformat": 4,
 "nbformat_minor": 5
}
