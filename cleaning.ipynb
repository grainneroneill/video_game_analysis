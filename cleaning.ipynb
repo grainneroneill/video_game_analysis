{
 "cells": [
  {
   "cell_type": "code",
   "execution_count": 1,
   "id": "a9c8d624",
   "metadata": {},
   "outputs": [],
   "source": [
    "import pandas as pd\n",
    "import numpy as np\n",
    "import matplotlib as plt"
   ]
  },
  {
   "cell_type": "code",
   "execution_count": 109,
   "id": "48e3fb3a",
   "metadata": {},
   "outputs": [],
   "source": [
    "df_raw = pd.read_csv(\"all_games.csv\")\n",
    "df = df_raw.copy()"
   ]
  },
  {
   "cell_type": "code",
   "execution_count": 110,
   "id": "f1b3c364",
   "metadata": {},
   "outputs": [
    {
     "name": "stdout",
     "output_type": "stream",
     "text": [
      "(18800, 6)\n"
     ]
    },
    {
     "data": {
      "text/html": [
       "<div>\n",
       "<style scoped>\n",
       "    .dataframe tbody tr th:only-of-type {\n",
       "        vertical-align: middle;\n",
       "    }\n",
       "\n",
       "    .dataframe tbody tr th {\n",
       "        vertical-align: top;\n",
       "    }\n",
       "\n",
       "    .dataframe thead th {\n",
       "        text-align: right;\n",
       "    }\n",
       "</style>\n",
       "<table border=\"1\" class=\"dataframe\">\n",
       "  <thead>\n",
       "    <tr style=\"text-align: right;\">\n",
       "      <th></th>\n",
       "      <th>name</th>\n",
       "      <th>platform</th>\n",
       "      <th>release_date</th>\n",
       "      <th>summary</th>\n",
       "      <th>meta_score</th>\n",
       "      <th>user_review</th>\n",
       "    </tr>\n",
       "  </thead>\n",
       "  <tbody>\n",
       "    <tr>\n",
       "      <th>0</th>\n",
       "      <td>The Legend of Zelda: Ocarina of Time</td>\n",
       "      <td>Nintendo 64</td>\n",
       "      <td>November 23, 1998</td>\n",
       "      <td>As a young boy, Link is tricked by Ganondorf, ...</td>\n",
       "      <td>99</td>\n",
       "      <td>9.1</td>\n",
       "    </tr>\n",
       "    <tr>\n",
       "      <th>1</th>\n",
       "      <td>Tony Hawk's Pro Skater 2</td>\n",
       "      <td>PlayStation</td>\n",
       "      <td>September 20, 2000</td>\n",
       "      <td>As most major publishers' development efforts ...</td>\n",
       "      <td>98</td>\n",
       "      <td>7.4</td>\n",
       "    </tr>\n",
       "    <tr>\n",
       "      <th>2</th>\n",
       "      <td>Grand Theft Auto IV</td>\n",
       "      <td>PlayStation 3</td>\n",
       "      <td>April 29, 2008</td>\n",
       "      <td>[Metacritic's 2008 PS3 Game of the Year; Also ...</td>\n",
       "      <td>98</td>\n",
       "      <td>7.7</td>\n",
       "    </tr>\n",
       "    <tr>\n",
       "      <th>3</th>\n",
       "      <td>SoulCalibur</td>\n",
       "      <td>Dreamcast</td>\n",
       "      <td>September 8, 1999</td>\n",
       "      <td>This is a tale of souls and swords, transcendi...</td>\n",
       "      <td>98</td>\n",
       "      <td>8.4</td>\n",
       "    </tr>\n",
       "    <tr>\n",
       "      <th>4</th>\n",
       "      <td>Grand Theft Auto IV</td>\n",
       "      <td>Xbox 360</td>\n",
       "      <td>April 29, 2008</td>\n",
       "      <td>[Metacritic's 2008 Xbox 360 Game of the Year; ...</td>\n",
       "      <td>98</td>\n",
       "      <td>7.9</td>\n",
       "    </tr>\n",
       "  </tbody>\n",
       "</table>\n",
       "</div>"
      ],
      "text/plain": [
       "                                   name        platform        release_date  \\\n",
       "0  The Legend of Zelda: Ocarina of Time     Nintendo 64   November 23, 1998   \n",
       "1              Tony Hawk's Pro Skater 2     PlayStation  September 20, 2000   \n",
       "2                   Grand Theft Auto IV   PlayStation 3      April 29, 2008   \n",
       "3                           SoulCalibur       Dreamcast   September 8, 1999   \n",
       "4                   Grand Theft Auto IV        Xbox 360      April 29, 2008   \n",
       "\n",
       "                                             summary  meta_score user_review  \n",
       "0  As a young boy, Link is tricked by Ganondorf, ...          99         9.1  \n",
       "1  As most major publishers' development efforts ...          98         7.4  \n",
       "2  [Metacritic's 2008 PS3 Game of the Year; Also ...          98         7.7  \n",
       "3  This is a tale of souls and swords, transcendi...          98         8.4  \n",
       "4  [Metacritic's 2008 Xbox 360 Game of the Year; ...          98         7.9  "
      ]
     },
     "execution_count": 110,
     "metadata": {},
     "output_type": "execute_result"
    }
   ],
   "source": [
    "print(df.shape)\n",
    "df.head()"
   ]
  },
  {
   "cell_type": "code",
   "execution_count": 111,
   "id": "7fd6aad6",
   "metadata": {},
   "outputs": [
    {
     "data": {
      "text/plain": [
       "name            object\n",
       "platform        object\n",
       "release_date    object\n",
       "summary         object\n",
       "meta_score       int64\n",
       "user_review     object\n",
       "dtype: object"
      ]
     },
     "execution_count": 111,
     "metadata": {},
     "output_type": "execute_result"
    }
   ],
   "source": [
    "df.dtypes"
   ]
  },
  {
   "cell_type": "code",
   "execution_count": 112,
   "id": "215ca8ba",
   "metadata": {},
   "outputs": [
    {
     "name": "stdout",
     "output_type": "stream",
     "text": [
      "tbd\n"
     ]
    }
   ],
   "source": [
    "# try to convert user_review column to float\n",
    "for i in df[\"user_review\"]:\n",
    "    try:\n",
    "        i = float(i)\n",
    "    except:\n",
    "        print(i)\n",
    "        break"
   ]
  },
  {
   "cell_type": "code",
   "execution_count": 113,
   "id": "0c7e0c33",
   "metadata": {},
   "outputs": [
    {
     "name": "stdout",
     "output_type": "stream",
     "text": [
      "(1365, 6)\n"
     ]
    },
    {
     "data": {
      "text/plain": [
       "(17435, 6)"
      ]
     },
     "execution_count": 113,
     "metadata": {},
     "output_type": "execute_result"
    }
   ],
   "source": [
    "# how many rows have user_review = tbd ? Drop them\n",
    "print(df[df[\"user_review\"] == \"tbd\"].shape)\n",
    "df = df.drop(df[df[\"user_review\"] == \"tbd\"].index,axis=0)\n",
    "df.shape"
   ]
  },
  {
   "cell_type": "code",
   "execution_count": 114,
   "id": "381e569a",
   "metadata": {},
   "outputs": [
    {
     "data": {
      "text/plain": [
       "name             object\n",
       "platform         object\n",
       "release_date     object\n",
       "summary          object\n",
       "meta_score        int64\n",
       "user_review     float64\n",
       "dtype: object"
      ]
     },
     "execution_count": 114,
     "metadata": {},
     "output_type": "execute_result"
    }
   ],
   "source": [
    "# convert user_review to float\n",
    "df[\"user_review\"] = df[\"user_review\"].astype(float)\n",
    "df.dtypes"
   ]
  },
  {
   "cell_type": "code",
   "execution_count": 115,
   "id": "0ae5ea5a",
   "metadata": {},
   "outputs": [
    {
     "name": "stdout",
     "output_type": "stream",
     "text": [
      "(94, 6)\n"
     ]
    },
    {
     "data": {
      "text/plain": [
       "(17341, 6)"
      ]
     },
     "execution_count": 115,
     "metadata": {},
     "output_type": "execute_result"
    }
   ],
   "source": [
    "# How many rows contain nans? drop them\n",
    "print(df[df.isna().any(axis=1)].shape)\n",
    "df = df.dropna(axis=0)\n",
    "df.shape"
   ]
  },
  {
   "cell_type": "code",
   "execution_count": 116,
   "id": "19a3212b",
   "metadata": {},
   "outputs": [
    {
     "data": {
      "text/html": [
       "<div>\n",
       "<style scoped>\n",
       "    .dataframe tbody tr th:only-of-type {\n",
       "        vertical-align: middle;\n",
       "    }\n",
       "\n",
       "    .dataframe tbody tr th {\n",
       "        vertical-align: top;\n",
       "    }\n",
       "\n",
       "    .dataframe thead th {\n",
       "        text-align: right;\n",
       "    }\n",
       "</style>\n",
       "<table border=\"1\" class=\"dataframe\">\n",
       "  <thead>\n",
       "    <tr style=\"text-align: right;\">\n",
       "      <th></th>\n",
       "      <th>meta_score</th>\n",
       "      <th>user_review</th>\n",
       "    </tr>\n",
       "  </thead>\n",
       "  <tbody>\n",
       "    <tr>\n",
       "      <th>count</th>\n",
       "      <td>17341.000000</td>\n",
       "      <td>17341.000000</td>\n",
       "    </tr>\n",
       "    <tr>\n",
       "      <th>mean</th>\n",
       "      <td>71.200738</td>\n",
       "      <td>6.991269</td>\n",
       "    </tr>\n",
       "    <tr>\n",
       "      <th>std</th>\n",
       "      <td>12.224246</td>\n",
       "      <td>1.351931</td>\n",
       "    </tr>\n",
       "    <tr>\n",
       "      <th>min</th>\n",
       "      <td>20.000000</td>\n",
       "      <td>0.200000</td>\n",
       "    </tr>\n",
       "    <tr>\n",
       "      <th>25%</th>\n",
       "      <td>64.000000</td>\n",
       "      <td>6.300000</td>\n",
       "    </tr>\n",
       "    <tr>\n",
       "      <th>50%</th>\n",
       "      <td>73.000000</td>\n",
       "      <td>7.300000</td>\n",
       "    </tr>\n",
       "    <tr>\n",
       "      <th>75%</th>\n",
       "      <td>80.000000</td>\n",
       "      <td>7.900000</td>\n",
       "    </tr>\n",
       "    <tr>\n",
       "      <th>max</th>\n",
       "      <td>99.000000</td>\n",
       "      <td>9.700000</td>\n",
       "    </tr>\n",
       "  </tbody>\n",
       "</table>\n",
       "</div>"
      ],
      "text/plain": [
       "         meta_score   user_review\n",
       "count  17341.000000  17341.000000\n",
       "mean      71.200738      6.991269\n",
       "std       12.224246      1.351931\n",
       "min       20.000000      0.200000\n",
       "25%       64.000000      6.300000\n",
       "50%       73.000000      7.300000\n",
       "75%       80.000000      7.900000\n",
       "max       99.000000      9.700000"
      ]
     },
     "execution_count": 116,
     "metadata": {},
     "output_type": "execute_result"
    }
   ],
   "source": [
    "df.describe()"
   ]
  },
  {
   "cell_type": "code",
   "execution_count": 118,
   "id": "1bad1836",
   "metadata": {},
   "outputs": [
    {
     "data": {
      "text/plain": [
       "array([' Nintendo 64', ' PlayStation', ' PlayStation 3', ' Dreamcast',\n",
       "       ' Xbox 360', ' Wii', ' Xbox One', ' PC', ' Switch',\n",
       "       ' PlayStation 2', ' PlayStation 4', ' GameCube', ' Xbox', ' Wii U',\n",
       "       ' Game Boy Advance', ' 3DS', ' Xbox Series X', ' DS',\n",
       "       ' PlayStation Vita', ' PlayStation 5', ' PSP', ' Stadia'],\n",
       "      dtype=object)"
      ]
     },
     "execution_count": 118,
     "metadata": {},
     "output_type": "execute_result"
    }
   ],
   "source": [
    "df.platform.unique()"
   ]
  },
  {
   "cell_type": "code",
   "execution_count": null,
   "id": "029b00c8",
   "metadata": {},
   "outputs": [],
   "source": [
    "# convert time to time\n",
    "# find anything weird in summaries (such as \"none\" or something)\n",
    "# start removing special characters from summary"
   ]
  }
 ],
 "metadata": {
  "kernelspec": {
   "display_name": "Python 3 (ipykernel)",
   "language": "python",
   "name": "python3"
  },
  "language_info": {
   "codemirror_mode": {
    "name": "ipython",
    "version": 3
   },
   "file_extension": ".py",
   "mimetype": "text/x-python",
   "name": "python",
   "nbconvert_exporter": "python",
   "pygments_lexer": "ipython3",
   "version": "3.9.7"
  }
 },
 "nbformat": 4,
 "nbformat_minor": 5
}
